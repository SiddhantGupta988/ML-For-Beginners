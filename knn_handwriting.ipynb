{
  "nbformat": 4,
  "nbformat_minor": 0,
  "metadata": {
    "colab": {
      "name": "knn_handwriting.ipynb",
      "provenance": [],
      "toc_visible": true,
      "authorship_tag": "ABX9TyNni7ZoJ4Pge5SO+q/pX/I8",
      "include_colab_link": true
    },
    "kernelspec": {
      "name": "python3",
      "display_name": "Python 3"
    },
    "language_info": {
      "name": "python"
    }
  },
  "cells": [
    {
      "cell_type": "markdown",
      "metadata": {
        "id": "view-in-github",
        "colab_type": "text"
      },
      "source": [
        "<a href=\"https://colab.research.google.com/github/SiddhantGupta988/ML-For-Beginners/blob/main/knn_handwriting.ipynb\" target=\"_parent\"><img src=\"https://colab.research.google.com/assets/colab-badge.svg\" alt=\"Open In Colab\"/></a>"
      ]
    },
    {
      "cell_type": "code",
      "metadata": {
        "id": "1LR5MoIBkn4Z"
      },
      "source": [
        "import numpy as np\n",
        "import pandas as pd\n",
        "import matplotlib.pyplot as plt\n"
      ],
      "execution_count": 1,
      "outputs": []
    },
    {
      "cell_type": "code",
      "metadata": {
        "id": "mubP2Tq9pFR2"
      },
      "source": [
        "def dist(x1,x2):\n",
        "  return np.sqrt(sum((x1-x2)**2))\n",
        "  "
      ],
      "execution_count": 2,
      "outputs": []
    },
    {
      "cell_type": "code",
      "metadata": {
        "id": "F4G2qkE5pf44"
      },
      "source": [
        "def knn(x,y,check_point,k=5):\n",
        "  m = x.shape[0]\n",
        "  vals =[]\n",
        "  for i in range(m):\n",
        "    d = dist(check_point,x[i])\n",
        "    vals.append((d,y[i]))\n",
        " \n",
        "  vals = sorted(vals)\n",
        "  vals = vals[:k]\n",
        "  vals = np.array(vals)\n",
        "  print(vals)\n",
        "  new_vals = np.unique(vals[:,1],return_counts=True)\n",
        "  index = new_vals[1].argmax()\n",
        "  pred = new_vals[0][index]\n",
        "  return pred"
      ],
      "execution_count": 27,
      "outputs": []
    },
    {
      "cell_type": "code",
      "metadata": {
        "colab": {
          "base_uri": "https://localhost:8080/"
        },
        "id": "R_tKveIcvOK2",
        "outputId": "0d9913d5-ef7e-451d-9a3f-6695da00648e"
      },
      "source": [
        "df = pd.read_csv(\"mnist_train.csv\")\n",
        "data = df.values\n",
        "x = data[:,1:]\n",
        "y = data[:,0]\n",
        "print(x.shape)\n",
        "print(y.shape)"
      ],
      "execution_count": 11,
      "outputs": [
        {
          "output_type": "stream",
          "text": [
            "(43021, 784)\n",
            "(43021,)\n"
          ],
          "name": "stdout"
        }
      ]
    },
    {
      "cell_type": "code",
      "metadata": {
        "id": "EeK4Vtyewi0K"
      },
      "source": [
        "def drawimg(image):\n",
        "  image = image.reshape(28,28)\n",
        "  plt.imshow(image,cmap=\"gray\")\n",
        "  plt.show()"
      ],
      "execution_count": 18,
      "outputs": []
    },
    {
      "cell_type": "code",
      "metadata": {
        "colab": {
          "base_uri": "https://localhost:8080/",
          "height": 265
        },
        "id": "oOSJUrrLzXdM",
        "outputId": "d7fe0b83-a31d-440f-a161-bc2e88487601"
      },
      "source": [
        "drawimg(x[4])"
      ],
      "execution_count": 29,
      "outputs": [
        {
          "output_type": "display_data",
          "data": {
            "image/png": "[encoded data removed]",
            "text/plain": [
              "<Figure size 432x288 with 1 Axes>"
            ]
          },
          "metadata": {
            "tags": [],
            "needs_background": "light"
          }
        }
      ]
    },
    {
      "cell_type": "code",
      "metadata": {
        "colab": {
          "base_uri": "https://localhost:8080/"
        },
        "id": "t-J8QJY-zbwF",
        "outputId": "7723f724-cea6-4c1c-c341-4930cfa2d057"
      },
      "source": [
        "res = knn(x,y,x[4])\n",
        "print(int(res))"
      ],
      "execution_count": 28,
      "outputs": [
        {
          "output_type": "stream",
          "text": [
            "[[   0.            9.        ]\n",
            " [1112.90296073    9.        ]\n",
            " [1143.0100612     9.        ]\n",
            " [1143.7486612     9.        ]\n",
            " [1156.78001366    9.        ]]\n",
            "9\n"
          ],
          "name": "stdout"
        }
      ]
    },
    {
      "cell_type": "code",
      "metadata": {
        "id": "shBiObyx0Jge"
      },
      "source": [
        ""
      ],
      "execution_count": null,
      "outputs": []
    }
  ]
}